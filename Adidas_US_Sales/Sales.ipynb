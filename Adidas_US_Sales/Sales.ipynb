{
 "cells": [
  {
   "cell_type": "code",
   "execution_count": 13,
   "metadata": {},
   "outputs": [
    {
     "name": "stdout",
     "output_type": "stream",
     "text": [
      "      Retailer  Retailer ID Invoice Date Date with day     Region  \\\n",
      "0  Foot Locker      1185732     01/ 2020    2020-01-01  Northeast   \n",
      "1  Foot Locker      1185732     01/ 2020    2020-01-01  Northeast   \n",
      "2  Foot Locker      1185732     01/ 2020    2020-01-01  Northeast   \n",
      "3  Foot Locker      1185732     01/ 2020    2020-01-01  Northeast   \n",
      "4  Foot Locker      1185732     01/ 2020    2020-01-01  Northeast   \n",
      "\n",
      "          State          City Buyer Type     Product Name  Units Sold  \\\n",
      "0  Pennsylvania  Philadelphia      Women          Apparel         275   \n",
      "1  Pennsylvania  Philadelphia      Women          Apparel          83   \n",
      "2  Pennsylvania  Philadelphia      Women          Apparel          83   \n",
      "3      New York      New York        Men  Street Footwear        1200   \n",
      "4      New York      New York        Men  Street Footwear         336   \n",
      "\n",
      "   Total Sales  Operating Profit  Operating Margin Sales Method  \n",
      "0     206250.0          61875.00              0.30       Outlet  \n",
      "1       5644.0           2426.92              0.43       Online  \n",
      "2       4399.0           1407.68              0.32       Outlet  \n",
      "3     600000.0         300000.00              0.50     In-store  \n",
      "4      15792.0           9633.12              0.61       Online  \n"
     ]
    }
   ],
   "source": [
    "import pandas as pd\n",
    "excel_file = \"Adidas_US_Sales_Datasets.xlsx\"  \n",
    "df = pd.read_excel(excel_file)\n",
    "print(df.head())\n"
   ]
  },
  {
   "cell_type": "code",
   "execution_count": 14,
   "metadata": {},
   "outputs": [
    {
     "name": "stdout",
     "output_type": "stream",
     "text": [
      "Index(['Retailer', 'Retailer ID', 'Invoice Date', 'Date with day', 'Region',\n",
      "       'State', 'City', 'Buyer Type', 'Product Name', 'Units Sold',\n",
      "       'Total Sales', 'Operating Profit', 'Operating Margin', 'Sales Method'],\n",
      "      dtype='object')\n"
     ]
    }
   ],
   "source": [
    "print(df.columns)"
   ]
  },
  {
   "cell_type": "code",
   "execution_count": 15,
   "metadata": {},
   "outputs": [
    {
     "name": "stdout",
     "output_type": "stream",
     "text": [
      "<class 'pandas.core.frame.DataFrame'>\n",
      "RangeIndex: 9648 entries, 0 to 9647\n",
      "Data columns (total 14 columns):\n",
      " #   Column            Non-Null Count  Dtype         \n",
      "---  ------            --------------  -----         \n",
      " 0   Retailer          9648 non-null   object        \n",
      " 1   Retailer ID       9648 non-null   int64         \n",
      " 2   Invoice Date      9648 non-null   object        \n",
      " 3   Date with day     9648 non-null   datetime64[ns]\n",
      " 4   Region            9648 non-null   object        \n",
      " 5   State             9648 non-null   object        \n",
      " 6   City              9648 non-null   object        \n",
      " 7   Buyer Type        9648 non-null   object        \n",
      " 8   Product Name      9648 non-null   object        \n",
      " 9   Units Sold        9648 non-null   int64         \n",
      " 10  Total Sales       9648 non-null   float64       \n",
      " 11  Operating Profit  9648 non-null   float64       \n",
      " 12  Operating Margin  9648 non-null   float64       \n",
      " 13  Sales Method      9648 non-null   object        \n",
      "dtypes: datetime64[ns](1), float64(3), int64(2), object(8)\n",
      "memory usage: 1.0+ MB\n",
      "None\n"
     ]
    }
   ],
   "source": [
    "print(df.info())"
   ]
  },
  {
   "cell_type": "code",
   "execution_count": 16,
   "metadata": {},
   "outputs": [
    {
     "name": "stdout",
     "output_type": "stream",
     "text": [
      "        Retailer ID                  Date with day   Units Sold  \\\n",
      "count  9.648000e+03                           9648  9648.000000   \n",
      "mean   1.173850e+06  2021-05-10 15:20:44.776119296   256.930037   \n",
      "min    1.128299e+06            2020-01-01 00:00:00     0.000000   \n",
      "25%    1.185732e+06            2021-02-17 00:00:00   106.000000   \n",
      "50%    1.185732e+06            2021-06-04 00:00:00   176.000000   \n",
      "75%    1.185732e+06            2021-09-16 00:00:00   350.000000   \n",
      "max    1.197831e+06            2021-12-31 00:00:00  1275.000000   \n",
      "std    2.636038e+04                            NaN   214.252030   \n",
      "\n",
      "         Total Sales  Operating Profit  Operating Margin  \n",
      "count    9648.000000       9648.000000       9648.000000  \n",
      "mean    93273.437500      34425.244761          0.422991  \n",
      "min         0.000000          0.000000          0.100000  \n",
      "25%      4254.500000       1921.752500          0.350000  \n",
      "50%      9576.000000       4371.420000          0.410000  \n",
      "75%    150000.000000      52062.500000          0.490000  \n",
      "max    825000.000000     390000.000000          0.800000  \n",
      "std    141916.016727      54193.113713          0.097197  \n"
     ]
    }
   ],
   "source": [
    "print(df.describe())"
   ]
  },
  {
   "cell_type": "code",
   "execution_count": 17,
   "metadata": {},
   "outputs": [
    {
     "name": "stdout",
     "output_type": "stream",
     "text": [
      "Retailer            0\n",
      "Retailer ID         0\n",
      "Invoice Date        0\n",
      "Date with day       0\n",
      "Region              0\n",
      "State               0\n",
      "City                0\n",
      "Buyer Type          0\n",
      "Product Name        0\n",
      "Units Sold          0\n",
      "Total Sales         0\n",
      "Operating Profit    0\n",
      "Operating Margin    0\n",
      "Sales Method        0\n",
      "dtype: int64\n"
     ]
    }
   ],
   "source": [
    "print(df.isnull().sum())"
   ]
  },
  {
   "cell_type": "code",
   "execution_count": 6,
   "metadata": {},
   "outputs": [
    {
     "name": "stdout",
     "output_type": "stream",
     "text": [
      "['Foot Locker' 'West Gear' 'Walmart' 'Sports Direct' \"Kohl's\" 'Amazon']\n"
     ]
    }
   ],
   "source": [
    "unique_values = df[\"Retailer\"].unique()\n",
    "print(unique_values)"
   ]
  },
  {
   "cell_type": "code",
   "execution_count": 19,
   "metadata": {},
   "outputs": [
    {
     "name": "stdout",
     "output_type": "stream",
     "text": [
      "['01/ 2020' '02/ 2020' '03/ 2020' '04/ 2020' '05/ 2020' '06/ 2020'\n",
      " '07/ 2020' '08/ 2020' '09/ 2020' '10/ 2020' '11/ 2020' '12/ 2020'\n",
      " '01/ 2021' '02/ 2021' '03/ 2021' '04/ 2021' '05/ 2021' '06/ 2021'\n",
      " '07/ 2021' '08/ 2021' '09/ 2021' '10/ 2021' '11/ 2021' '12/ 2021']\n"
     ]
    }
   ],
   "source": [
    "unique_values = df[\"Invoice Date\"].unique()\n",
    "print(unique_values)"
   ]
  },
  {
   "cell_type": "code",
   "execution_count": 8,
   "metadata": {},
   "outputs": [
    {
     "name": "stdout",
     "output_type": "stream",
     "text": [
      "['Northeast' 'West' 'Southeast' 'South' 'Midwest']\n"
     ]
    }
   ],
   "source": [
    "unique_values = df[\"Region\"].unique()\n",
    "print(unique_values)"
   ]
  },
  {
   "cell_type": "code",
   "execution_count": 9,
   "metadata": {},
   "outputs": [
    {
     "name": "stdout",
     "output_type": "stream",
     "text": [
      "['Pennsylvania' 'New York' 'Nevada' 'Colorado' 'Florida' 'Washington'\n",
      " 'Texas' 'Minnesota' 'California' 'Montana' 'Iowa' 'Louisiana'\n",
      " 'South Carolina' 'North Dakota' 'New Jersey' 'Georgia' 'South Dakota'\n",
      " 'Alaska' 'Wisconsin' 'Delaware' 'Connecticut' 'Maine' 'Missouri' 'Kansas'\n",
      " 'New Mexico' 'North Carolina' 'Massachusetts' 'Oklahoma' 'Hawaii'\n",
      " 'Oregon' 'Indiana' 'Maryland' 'Rhode Island' 'Michigan' 'Virginia'\n",
      " 'Kentucky' 'Vermont' 'Ohio' 'Idaho' 'Mississippi' 'Arkansas' 'Wyoming'\n",
      " 'Utah' 'West Virginia' 'New Hampshire' 'Arizona' 'Tennessee' 'Nebraska'\n",
      " 'Illinois' 'Alabama']\n"
     ]
    }
   ],
   "source": [
    "unique_values = df[\"State\"].unique()\n",
    "print(unique_values)"
   ]
  },
  {
   "cell_type": "code",
   "execution_count": 10,
   "metadata": {},
   "outputs": [
    {
     "name": "stdout",
     "output_type": "stream",
     "text": [
      "['Philadelphia' 'New York' 'Las Vegas' 'Denver' 'Miami' 'Seattle'\n",
      " 'Houston' 'Minneapolis' 'San Francisco' 'Billings' 'Des Moines'\n",
      " 'New Orleans' 'Charleston' 'Fargo' 'Newark' 'Atlanta' 'Sioux Falls'\n",
      " 'Anchorage' 'Milwaukee' 'Wilmington' 'Hartford' 'Portland' 'St. Louis'\n",
      " 'Orlando' 'Wichita' 'Albuquerque' 'Charlotte' 'Albany' 'Boston'\n",
      " 'Oklahoma City' 'Honolulu' 'Indianapolis' 'Baltimore' 'Providence'\n",
      " 'Detroit' 'Richmond' 'Louisville' 'Burlington' 'Columbus' 'Boise'\n",
      " 'Jackson' 'Little Rock' 'Cheyenne' 'Salt Lake City' 'Manchester'\n",
      " 'Phoenix' 'Los Angeles' 'Knoxville' 'Omaha' 'Chicago' 'Birmingham'\n",
      " 'Dallas']\n"
     ]
    }
   ],
   "source": [
    "unique_values = df[\"City\"].unique()\n",
    "print(unique_values)"
   ]
  },
  {
   "cell_type": "code",
   "execution_count": 11,
   "metadata": {},
   "outputs": [
    {
     "name": "stdout",
     "output_type": "stream",
     "text": [
      "['Women' 'Men']\n"
     ]
    }
   ],
   "source": [
    "unique_values = df[\"Buyer Type\"].unique()\n",
    "print(unique_values)"
   ]
  },
  {
   "cell_type": "code",
   "execution_count": 12,
   "metadata": {},
   "outputs": [
    {
     "name": "stdout",
     "output_type": "stream",
     "text": [
      "['Apparel' 'Street Footwear' 'Athletic Footwear']\n"
     ]
    }
   ],
   "source": [
    "unique_values = df[\"Product Name\"].unique()\n",
    "print(unique_values)"
   ]
  }
 ],
 "metadata": {
  "kernelspec": {
   "display_name": "Python 3",
   "language": "python",
   "name": "python3"
  },
  "language_info": {
   "codemirror_mode": {
    "name": "ipython",
    "version": 3
   },
   "file_extension": ".py",
   "mimetype": "text/x-python",
   "name": "python",
   "nbconvert_exporter": "python",
   "pygments_lexer": "ipython3",
   "version": "3.12.0"
  }
 },
 "nbformat": 4,
 "nbformat_minor": 2
}
